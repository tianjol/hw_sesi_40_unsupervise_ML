{
 "cells": [
  {
   "cell_type": "code",
   "execution_count": 1,
   "id": "f8fa69cb",
   "metadata": {
    "colab": {
     "base_uri": "https://localhost:8080/"
    },
    "executionInfo": {
     "elapsed": 2555,
     "status": "ok",
     "timestamp": 1650364497633,
     "user": {
      "displayName": "Fadli Yandra",
      "userId": "12349187257487123946"
     },
     "user_tz": -420
    },
    "id": "f8fa69cb",
    "outputId": "ecb2b767-f665-4c50-a7c3-b4af07d485d3"
   },
   "outputs": [],
   "source": [
    "import warnings\n",
    "from sklearn.exceptions import DataConversionWarning\n",
    "warnings.filterwarnings(action='error', category=DataConversionWarning)\n",
    "\n",
    "import pandas as pd\n",
    "import psycopg2 as pg\n",
    "import numpy as np\n",
    "import datetime\n",
    "import matplotlib.pyplot as plt\n",
    "from sklearn.cluster import KMeans\n",
    "import seaborn as sns\n",
    "from mpl_toolkits.mplot3d import Axes3D\n",
    "from sklearn.metrics import silhouette_samples,silhouette_score"
   ]
  },
  {
   "cell_type": "code",
   "execution_count": 2,
   "id": "1b20a72d",
   "metadata": {
    "colab": {
     "base_uri": "https://localhost:8080/",
     "height": 427
    },
    "executionInfo": {
     "elapsed": 24,
     "status": "error",
     "timestamp": 1650365314874,
     "user": {
      "displayName": "Fadli Yandra",
      "userId": "12349187257487123946"
     },
     "user_tz": -420
    },
    "id": "1b20a72d",
    "outputId": "f5453233-fb7c-4bee-c893-4c101ce6e044"
   },
   "outputs": [],
   "source": [
    "# set up configuration\n",
    "host = \"localhost\"\n",
    "port = \"5432\"\n",
    "database = \"postgres\"\n",
    "user = \"postgres\"\n",
    "password = \"Jakarta12\"\n",
    "setting = \"dbname=\" + database + \" user=\" + user + \" host=\" + host + \" port=\" + port + \" password=\" + password\n",
    "engine = pg.connect(setting)"
   ]
  },
  {
   "cell_type": "code",
   "execution_count": 34,
   "id": "e202ef0b",
   "metadata": {
    "id": "e202ef0b"
   },
   "outputs": [],
   "source": [
    "query = f\"\"\"\n",
    "\t--select\n",
    "    --    product_category_name\n",
    "    --    , product_length_cm\n",
    "    --    , product_height_cm\n",
    "    --    , product_width_cm\n",
    "\t--from \n",
    "\t--\tolist_products_dataset_csv opdc \n",
    "        \n",
    "        select \n",
    "\t\t\tproduct_category_name ,cast(price as dec(19,2))price,freight_value\n",
    "\t\tfrom olist_products_dataset_csv a inner join olist_order_items_dataset_csv b on a.product_id =b.product_id \n",
    "    \"\"\"\n",
    "df_read = pd.read_sql(query, con=engine)"
   ]
  },
  {
   "cell_type": "code",
   "execution_count": 35,
   "id": "e8acf579",
   "metadata": {
    "id": "e8acf579",
    "outputId": "f2ffb5a1-0190-4ca4-c004-bc130b5d3113"
   },
   "outputs": [
    {
     "data": {
      "text/html": [
       "<div>\n",
       "<style scoped>\n",
       "    .dataframe tbody tr th:only-of-type {\n",
       "        vertical-align: middle;\n",
       "    }\n",
       "\n",
       "    .dataframe tbody tr th {\n",
       "        vertical-align: top;\n",
       "    }\n",
       "\n",
       "    .dataframe thead th {\n",
       "        text-align: right;\n",
       "    }\n",
       "</style>\n",
       "<table border=\"1\" class=\"dataframe\">\n",
       "  <thead>\n",
       "    <tr style=\"text-align: right;\">\n",
       "      <th></th>\n",
       "      <th>product_category_name</th>\n",
       "      <th>price</th>\n",
       "      <th>freight_value</th>\n",
       "    </tr>\n",
       "  </thead>\n",
       "  <tbody>\n",
       "    <tr>\n",
       "      <th>0</th>\n",
       "      <td>cool_stuff</td>\n",
       "      <td>58.90</td>\n",
       "      <td>13.29</td>\n",
       "    </tr>\n",
       "    <tr>\n",
       "      <th>1</th>\n",
       "      <td>pet_shop</td>\n",
       "      <td>239.90</td>\n",
       "      <td>19.93</td>\n",
       "    </tr>\n",
       "    <tr>\n",
       "      <th>2</th>\n",
       "      <td>moveis_decoracao</td>\n",
       "      <td>199.00</td>\n",
       "      <td>17.87</td>\n",
       "    </tr>\n",
       "    <tr>\n",
       "      <th>3</th>\n",
       "      <td>perfumaria</td>\n",
       "      <td>12.99</td>\n",
       "      <td>12.79</td>\n",
       "    </tr>\n",
       "    <tr>\n",
       "      <th>4</th>\n",
       "      <td>ferramentas_jardim</td>\n",
       "      <td>199.90</td>\n",
       "      <td>18.14</td>\n",
       "    </tr>\n",
       "    <tr>\n",
       "      <th>...</th>\n",
       "      <td>...</td>\n",
       "      <td>...</td>\n",
       "      <td>...</td>\n",
       "    </tr>\n",
       "    <tr>\n",
       "      <th>112645</th>\n",
       "      <td>utilidades_domesticas</td>\n",
       "      <td>299.99</td>\n",
       "      <td>43.41</td>\n",
       "    </tr>\n",
       "    <tr>\n",
       "      <th>112646</th>\n",
       "      <td>informatica_acessorios</td>\n",
       "      <td>350.00</td>\n",
       "      <td>36.53</td>\n",
       "    </tr>\n",
       "    <tr>\n",
       "      <th>112647</th>\n",
       "      <td>esporte_lazer</td>\n",
       "      <td>99.90</td>\n",
       "      <td>16.95</td>\n",
       "    </tr>\n",
       "    <tr>\n",
       "      <th>112648</th>\n",
       "      <td>informatica_acessorios</td>\n",
       "      <td>55.99</td>\n",
       "      <td>8.72</td>\n",
       "    </tr>\n",
       "    <tr>\n",
       "      <th>112649</th>\n",
       "      <td>cama_mesa_banho</td>\n",
       "      <td>43.00</td>\n",
       "      <td>12.79</td>\n",
       "    </tr>\n",
       "  </tbody>\n",
       "</table>\n",
       "<p>112650 rows × 3 columns</p>\n",
       "</div>"
      ],
      "text/plain": [
       "         product_category_name   price  freight_value\n",
       "0                   cool_stuff   58.90          13.29\n",
       "1                     pet_shop  239.90          19.93\n",
       "2             moveis_decoracao  199.00          17.87\n",
       "3                   perfumaria   12.99          12.79\n",
       "4           ferramentas_jardim  199.90          18.14\n",
       "...                        ...     ...            ...\n",
       "112645   utilidades_domesticas  299.99          43.41\n",
       "112646  informatica_acessorios  350.00          36.53\n",
       "112647           esporte_lazer   99.90          16.95\n",
       "112648  informatica_acessorios   55.99           8.72\n",
       "112649         cama_mesa_banho   43.00          12.79\n",
       "\n",
       "[112650 rows x 3 columns]"
      ]
     },
     "execution_count": 35,
     "metadata": {},
     "output_type": "execute_result"
    }
   ],
   "source": [
    "df_read"
   ]
  },
  {
   "cell_type": "code",
   "execution_count": 37,
   "id": "4d1a545f",
   "metadata": {
    "id": "4d1a545f",
    "outputId": "24709184-4f6b-4d6b-dee3-f62eeafa581d"
   },
   "outputs": [
    {
     "data": {
      "image/png": "[encoded data removed]",
      "text/plain": [
       "<Figure size 720x432 with 1 Axes>"
      ]
     },
     "metadata": {
      "needs_background": "light"
     },
     "output_type": "display_data"
    }
   ],
   "source": [
    "plt.figure(figsize=(10,6))\n",
    "plt.title(\"Product Category Name\")\n",
    "sns.axes_style(\"dark\")\n",
    "sns.violinplot(y=df_read[\"price\"])\n",
    "plt.show()"
   ]
  },
  {
   "cell_type": "code",
   "execution_count": 38,
   "id": "bd1d8f18",
   "metadata": {
    "id": "bd1d8f18",
    "outputId": "4b2cedd9-2fdb-4845-d447-5d6921ce697f"
   },
   "outputs": [
    {
     "data": {
      "image/png": "[encoded data removed]",
      "text/plain": [
       "<Figure size 720x432 with 1 Axes>"
      ]
     },
     "metadata": {
      "needs_background": "light"
     },
     "output_type": "display_data"
    }
   ],
   "source": [
    "plt.figure(figsize=(10,6))\n",
    "plt.title(\"Product Category Name\")\n",
    "sns.axes_style(\"dark\")\n",
    "sns.violinplot(y=df_read[\"freight_value\"])\n",
    "plt.show()"
   ]
  },
  {
   "cell_type": "code",
   "execution_count": 40,
   "id": "0f29943a",
   "metadata": {
    "id": "0f29943a"
   },
   "outputs": [],
   "source": [
    "products = df_read.groupby('product_category_name').count()[1:]['price']"
   ]
  },
  {
   "cell_type": "code",
   "execution_count": 41,
   "id": "4dc6a2f8",
   "metadata": {
    "id": "4dc6a2f8"
   },
   "outputs": [],
   "source": [
    "products = pd.DataFrame(products).sort_values('price').reset_index()[::-1][:10]"
   ]
  },
  {
   "cell_type": "code",
   "execution_count": 44,
   "id": "d0be77f3",
   "metadata": {
    "id": "d0be77f3"
   },
   "outputs": [],
   "source": [
    "df_train = df_read[(df_read.price >=10) & (df_read.freight_value >=1)]"
   ]
  },
  {
   "cell_type": "code",
   "execution_count": 45,
   "id": "3681a6e4",
   "metadata": {
    "id": "3681a6e4",
    "outputId": "63530acf-6197-47e2-8c64-38f5ca568754"
   },
   "outputs": [
    {
     "data": {
      "text/html": [
       "<div>\n",
       "<style scoped>\n",
       "    .dataframe tbody tr th:only-of-type {\n",
       "        vertical-align: middle;\n",
       "    }\n",
       "\n",
       "    .dataframe tbody tr th {\n",
       "        vertical-align: top;\n",
       "    }\n",
       "\n",
       "    .dataframe thead th {\n",
       "        text-align: right;\n",
       "    }\n",
       "</style>\n",
       "<table border=\"1\" class=\"dataframe\">\n",
       "  <thead>\n",
       "    <tr style=\"text-align: right;\">\n",
       "      <th></th>\n",
       "      <th>product_category_name</th>\n",
       "      <th>price</th>\n",
       "      <th>freight_value</th>\n",
       "    </tr>\n",
       "  </thead>\n",
       "  <tbody>\n",
       "    <tr>\n",
       "      <th>0</th>\n",
       "      <td>cool_stuff</td>\n",
       "      <td>58.90</td>\n",
       "      <td>13.29</td>\n",
       "    </tr>\n",
       "    <tr>\n",
       "      <th>1</th>\n",
       "      <td>pet_shop</td>\n",
       "      <td>239.90</td>\n",
       "      <td>19.93</td>\n",
       "    </tr>\n",
       "    <tr>\n",
       "      <th>2</th>\n",
       "      <td>moveis_decoracao</td>\n",
       "      <td>199.00</td>\n",
       "      <td>17.87</td>\n",
       "    </tr>\n",
       "    <tr>\n",
       "      <th>3</th>\n",
       "      <td>perfumaria</td>\n",
       "      <td>12.99</td>\n",
       "      <td>12.79</td>\n",
       "    </tr>\n",
       "    <tr>\n",
       "      <th>4</th>\n",
       "      <td>ferramentas_jardim</td>\n",
       "      <td>199.90</td>\n",
       "      <td>18.14</td>\n",
       "    </tr>\n",
       "    <tr>\n",
       "      <th>...</th>\n",
       "      <td>...</td>\n",
       "      <td>...</td>\n",
       "      <td>...</td>\n",
       "    </tr>\n",
       "    <tr>\n",
       "      <th>112645</th>\n",
       "      <td>utilidades_domesticas</td>\n",
       "      <td>299.99</td>\n",
       "      <td>43.41</td>\n",
       "    </tr>\n",
       "    <tr>\n",
       "      <th>112646</th>\n",
       "      <td>informatica_acessorios</td>\n",
       "      <td>350.00</td>\n",
       "      <td>36.53</td>\n",
       "    </tr>\n",
       "    <tr>\n",
       "      <th>112647</th>\n",
       "      <td>esporte_lazer</td>\n",
       "      <td>99.90</td>\n",
       "      <td>16.95</td>\n",
       "    </tr>\n",
       "    <tr>\n",
       "      <th>112648</th>\n",
       "      <td>informatica_acessorios</td>\n",
       "      <td>55.99</td>\n",
       "      <td>8.72</td>\n",
       "    </tr>\n",
       "    <tr>\n",
       "      <th>112649</th>\n",
       "      <td>cama_mesa_banho</td>\n",
       "      <td>43.00</td>\n",
       "      <td>12.79</td>\n",
       "    </tr>\n",
       "  </tbody>\n",
       "</table>\n",
       "<p>110940 rows × 3 columns</p>\n",
       "</div>"
      ],
      "text/plain": [
       "         product_category_name   price  freight_value\n",
       "0                   cool_stuff   58.90          13.29\n",
       "1                     pet_shop  239.90          19.93\n",
       "2             moveis_decoracao  199.00          17.87\n",
       "3                   perfumaria   12.99          12.79\n",
       "4           ferramentas_jardim  199.90          18.14\n",
       "...                        ...     ...            ...\n",
       "112645   utilidades_domesticas  299.99          43.41\n",
       "112646  informatica_acessorios  350.00          36.53\n",
       "112647           esporte_lazer   99.90          16.95\n",
       "112648  informatica_acessorios   55.99           8.72\n",
       "112649         cama_mesa_banho   43.00          12.79\n",
       "\n",
       "[110940 rows x 3 columns]"
      ]
     },
     "execution_count": 45,
     "metadata": {},
     "output_type": "execute_result"
    }
   ],
   "source": [
    "df_train"
   ]
  },
  {
   "cell_type": "code",
   "execution_count": 46,
   "id": "6ec29fe6",
   "metadata": {
    "id": "6ec29fe6",
    "outputId": "e400020e-b680-433a-f728-8ca5e7c4ff98"
   },
   "outputs": [
    {
     "data": {
      "text/html": [
       "<div>\n",
       "<style scoped>\n",
       "    .dataframe tbody tr th:only-of-type {\n",
       "        vertical-align: middle;\n",
       "    }\n",
       "\n",
       "    .dataframe tbody tr th {\n",
       "        vertical-align: top;\n",
       "    }\n",
       "\n",
       "    .dataframe thead th {\n",
       "        text-align: right;\n",
       "    }\n",
       "</style>\n",
       "<table border=\"1\" class=\"dataframe\">\n",
       "  <thead>\n",
       "    <tr style=\"text-align: right;\">\n",
       "      <th></th>\n",
       "      <th>price</th>\n",
       "      <th>freight_value</th>\n",
       "    </tr>\n",
       "  </thead>\n",
       "  <tbody>\n",
       "    <tr>\n",
       "      <th>0</th>\n",
       "      <td>58.90</td>\n",
       "      <td>13.29</td>\n",
       "    </tr>\n",
       "    <tr>\n",
       "      <th>1</th>\n",
       "      <td>239.90</td>\n",
       "      <td>19.93</td>\n",
       "    </tr>\n",
       "    <tr>\n",
       "      <th>2</th>\n",
       "      <td>199.00</td>\n",
       "      <td>17.87</td>\n",
       "    </tr>\n",
       "    <tr>\n",
       "      <th>3</th>\n",
       "      <td>12.99</td>\n",
       "      <td>12.79</td>\n",
       "    </tr>\n",
       "    <tr>\n",
       "      <th>4</th>\n",
       "      <td>199.90</td>\n",
       "      <td>18.14</td>\n",
       "    </tr>\n",
       "    <tr>\n",
       "      <th>...</th>\n",
       "      <td>...</td>\n",
       "      <td>...</td>\n",
       "    </tr>\n",
       "    <tr>\n",
       "      <th>112645</th>\n",
       "      <td>299.99</td>\n",
       "      <td>43.41</td>\n",
       "    </tr>\n",
       "    <tr>\n",
       "      <th>112646</th>\n",
       "      <td>350.00</td>\n",
       "      <td>36.53</td>\n",
       "    </tr>\n",
       "    <tr>\n",
       "      <th>112647</th>\n",
       "      <td>99.90</td>\n",
       "      <td>16.95</td>\n",
       "    </tr>\n",
       "    <tr>\n",
       "      <th>112648</th>\n",
       "      <td>55.99</td>\n",
       "      <td>8.72</td>\n",
       "    </tr>\n",
       "    <tr>\n",
       "      <th>112649</th>\n",
       "      <td>43.00</td>\n",
       "      <td>12.79</td>\n",
       "    </tr>\n",
       "  </tbody>\n",
       "</table>\n",
       "<p>110940 rows × 2 columns</p>\n",
       "</div>"
      ],
      "text/plain": [
       "         price  freight_value\n",
       "0        58.90          13.29\n",
       "1       239.90          19.93\n",
       "2       199.00          17.87\n",
       "3        12.99          12.79\n",
       "4       199.90          18.14\n",
       "...        ...            ...\n",
       "112645  299.99          43.41\n",
       "112646  350.00          36.53\n",
       "112647   99.90          16.95\n",
       "112648   55.99           8.72\n",
       "112649   43.00          12.79\n",
       "\n",
       "[110940 rows x 2 columns]"
      ]
     },
     "execution_count": 46,
     "metadata": {},
     "output_type": "execute_result"
    }
   ],
   "source": [
    "df_train.iloc[:,1:]"
   ]
  },
  {
   "cell_type": "markdown",
   "id": "a15b6246",
   "metadata": {
    "id": "a15b6246"
   },
   "source": [
    "### ELBOW METHODE"
   ]
  },
  {
   "cell_type": "code",
   "execution_count": 50,
   "id": "4a18c946",
   "metadata": {
    "id": "4a18c946",
    "outputId": "9881a435-57e5-467d-ac20-1119a4b0744d"
   },
   "outputs": [
    {
     "name": "stdout",
     "output_type": "stream",
     "text": [
      "[Total Run Time]: 52\n"
     ]
    }
   ],
   "source": [
    "start_loop = datetime.datetime.now()\n",
    "wcss = []\n",
    "for k in range(1,20):\n",
    "    kmeans = KMeans(n_clusters=k, init=\"k-means++\")\n",
    "    kmeans.fit(df_train.iloc[:,1:])\n",
    "    wcss.append(kmeans.inertia_)\n",
    "stop_loop = datetime.datetime.now()\n",
    "print(\"[Total Run Time]:\", (stop_loop - start_loop).seconds)"
   ]
  },
  {
   "cell_type": "code",
   "execution_count": 51,
   "id": "149ca092",
   "metadata": {
    "id": "149ca092",
    "outputId": "43c03d5f-531c-48e1-aec0-1033118abc88"
   },
   "outputs": [
    {
     "data": {
      "image/png": "[encoded data removed]",
      "text/plain": [
       "<Figure size 864x432 with 1 Axes>"
      ]
     },
     "metadata": {
      "needs_background": "light"
     },
     "output_type": "display_data"
    }
   ],
   "source": [
    "plt.figure(figsize=(12,6))    \n",
    "plt.grid()\n",
    "plt.plot(range(1,20),wcss, linewidth=2, color=\"red\", marker =\"8\")\n",
    "plt.xlabel(\"K Value\")\n",
    "plt.xticks(np.arange(1,20,1))\n",
    "plt.ylabel(\"WCSS\")\n",
    "plt.show()"
   ]
  },
  {
   "cell_type": "code",
   "execution_count": 52,
   "id": "a1c68b75",
   "metadata": {
    "id": "a1c68b75",
    "outputId": "cd1b4f94-1162-49a7-c8c7-089cb983b3a2"
   },
   "outputs": [
    {
     "name": "stderr",
     "output_type": "stream",
     "text": [
      "C:\\Users\\jilli\\AppData\\Local\\Temp\\ipykernel_22764\\3228651075.py:3: SettingWithCopyWarning: \n",
      "A value is trying to be set on a copy of a slice from a DataFrame.\n",
      "Try using .loc[row_indexer,col_indexer] = value instead\n",
      "\n",
      "See the caveats in the documentation: https://pandas.pydata.org/pandas-docs/stable/user_guide/indexing.html#returning-a-view-versus-a-copy\n",
      "  df_train[\"label\"] = clusters\n"
     ]
    }
   ],
   "source": [
    "km = KMeans(n_clusters=5)\n",
    "clusters = km.fit_predict(df_train.iloc[:,1:])\n",
    "df_train[\"label\"] = clusters"
   ]
  },
  {
   "cell_type": "code",
   "execution_count": 53,
   "id": "ab5ec5a4",
   "metadata": {
    "id": "ab5ec5a4",
    "outputId": "b8ba7fbc-b291-4c70-d1ac-88052b26c967"
   },
   "outputs": [
    {
     "data": {
      "text/html": [
       "<div>\n",
       "<style scoped>\n",
       "    .dataframe tbody tr th:only-of-type {\n",
       "        vertical-align: middle;\n",
       "    }\n",
       "\n",
       "    .dataframe tbody tr th {\n",
       "        vertical-align: top;\n",
       "    }\n",
       "\n",
       "    .dataframe thead th {\n",
       "        text-align: right;\n",
       "    }\n",
       "</style>\n",
       "<table border=\"1\" class=\"dataframe\">\n",
       "  <thead>\n",
       "    <tr style=\"text-align: right;\">\n",
       "      <th></th>\n",
       "      <th>product_category_name</th>\n",
       "      <th>price</th>\n",
       "      <th>freight_value</th>\n",
       "      <th>label</th>\n",
       "    </tr>\n",
       "  </thead>\n",
       "  <tbody>\n",
       "    <tr>\n",
       "      <th>0</th>\n",
       "      <td>cool_stuff</td>\n",
       "      <td>58.90</td>\n",
       "      <td>13.29</td>\n",
       "      <td>3</td>\n",
       "    </tr>\n",
       "    <tr>\n",
       "      <th>1</th>\n",
       "      <td>pet_shop</td>\n",
       "      <td>239.90</td>\n",
       "      <td>19.93</td>\n",
       "      <td>0</td>\n",
       "    </tr>\n",
       "    <tr>\n",
       "      <th>2</th>\n",
       "      <td>moveis_decoracao</td>\n",
       "      <td>199.00</td>\n",
       "      <td>17.87</td>\n",
       "      <td>0</td>\n",
       "    </tr>\n",
       "    <tr>\n",
       "      <th>3</th>\n",
       "      <td>perfumaria</td>\n",
       "      <td>12.99</td>\n",
       "      <td>12.79</td>\n",
       "      <td>3</td>\n",
       "    </tr>\n",
       "    <tr>\n",
       "      <th>4</th>\n",
       "      <td>ferramentas_jardim</td>\n",
       "      <td>199.90</td>\n",
       "      <td>18.14</td>\n",
       "      <td>0</td>\n",
       "    </tr>\n",
       "    <tr>\n",
       "      <th>...</th>\n",
       "      <td>...</td>\n",
       "      <td>...</td>\n",
       "      <td>...</td>\n",
       "      <td>...</td>\n",
       "    </tr>\n",
       "    <tr>\n",
       "      <th>112645</th>\n",
       "      <td>utilidades_domesticas</td>\n",
       "      <td>299.99</td>\n",
       "      <td>43.41</td>\n",
       "      <td>0</td>\n",
       "    </tr>\n",
       "    <tr>\n",
       "      <th>112646</th>\n",
       "      <td>informatica_acessorios</td>\n",
       "      <td>350.00</td>\n",
       "      <td>36.53</td>\n",
       "      <td>2</td>\n",
       "    </tr>\n",
       "    <tr>\n",
       "      <th>112647</th>\n",
       "      <td>esporte_lazer</td>\n",
       "      <td>99.90</td>\n",
       "      <td>16.95</td>\n",
       "      <td>3</td>\n",
       "    </tr>\n",
       "    <tr>\n",
       "      <th>112648</th>\n",
       "      <td>informatica_acessorios</td>\n",
       "      <td>55.99</td>\n",
       "      <td>8.72</td>\n",
       "      <td>3</td>\n",
       "    </tr>\n",
       "    <tr>\n",
       "      <th>112649</th>\n",
       "      <td>cama_mesa_banho</td>\n",
       "      <td>43.00</td>\n",
       "      <td>12.79</td>\n",
       "      <td>3</td>\n",
       "    </tr>\n",
       "  </tbody>\n",
       "</table>\n",
       "<p>110940 rows × 4 columns</p>\n",
       "</div>"
      ],
      "text/plain": [
       "         product_category_name   price  freight_value  label\n",
       "0                   cool_stuff   58.90          13.29      3\n",
       "1                     pet_shop  239.90          19.93      0\n",
       "2             moveis_decoracao  199.00          17.87      0\n",
       "3                   perfumaria   12.99          12.79      3\n",
       "4           ferramentas_jardim  199.90          18.14      0\n",
       "...                        ...     ...            ...    ...\n",
       "112645   utilidades_domesticas  299.99          43.41      0\n",
       "112646  informatica_acessorios  350.00          36.53      2\n",
       "112647           esporte_lazer   99.90          16.95      3\n",
       "112648  informatica_acessorios   55.99           8.72      3\n",
       "112649         cama_mesa_banho   43.00          12.79      3\n",
       "\n",
       "[110940 rows x 4 columns]"
      ]
     },
     "execution_count": 53,
     "metadata": {},
     "output_type": "execute_result"
    }
   ],
   "source": [
    "df_train"
   ]
  },
  {
   "cell_type": "code",
   "execution_count": 54,
   "id": "8876a701",
   "metadata": {
    "id": "8876a701",
    "outputId": "d8086ae7-0d5f-4567-d7dc-913f67dfa879"
   },
   "outputs": [
    {
     "data": {
      "text/html": [
       "<div>\n",
       "<style scoped>\n",
       "    .dataframe tbody tr th:only-of-type {\n",
       "        vertical-align: middle;\n",
       "    }\n",
       "\n",
       "    .dataframe tbody tr th {\n",
       "        vertical-align: top;\n",
       "    }\n",
       "\n",
       "    .dataframe thead th {\n",
       "        text-align: right;\n",
       "    }\n",
       "</style>\n",
       "<table border=\"1\" class=\"dataframe\">\n",
       "  <thead>\n",
       "    <tr style=\"text-align: right;\">\n",
       "      <th></th>\n",
       "      <th>product_category_name</th>\n",
       "      <th>price</th>\n",
       "      <th>freight_value</th>\n",
       "    </tr>\n",
       "    <tr>\n",
       "      <th>label</th>\n",
       "      <th></th>\n",
       "      <th></th>\n",
       "      <th></th>\n",
       "    </tr>\n",
       "  </thead>\n",
       "  <tbody>\n",
       "    <tr>\n",
       "      <th>0</th>\n",
       "      <td>28982</td>\n",
       "      <td>28982</td>\n",
       "      <td>28982</td>\n",
       "    </tr>\n",
       "    <tr>\n",
       "      <th>1</th>\n",
       "      <td>1385</td>\n",
       "      <td>1385</td>\n",
       "      <td>1385</td>\n",
       "    </tr>\n",
       "    <tr>\n",
       "      <th>2</th>\n",
       "      <td>5084</td>\n",
       "      <td>5084</td>\n",
       "      <td>5084</td>\n",
       "    </tr>\n",
       "    <tr>\n",
       "      <th>3</th>\n",
       "      <td>75170</td>\n",
       "      <td>75170</td>\n",
       "      <td>75170</td>\n",
       "    </tr>\n",
       "    <tr>\n",
       "      <th>4</th>\n",
       "      <td>319</td>\n",
       "      <td>319</td>\n",
       "      <td>319</td>\n",
       "    </tr>\n",
       "  </tbody>\n",
       "</table>\n",
       "</div>"
      ],
      "text/plain": [
       "       product_category_name  price  freight_value\n",
       "label                                             \n",
       "0                      28982  28982          28982\n",
       "1                       1385   1385           1385\n",
       "2                       5084   5084           5084\n",
       "3                      75170  75170          75170\n",
       "4                        319    319            319"
      ]
     },
     "execution_count": 54,
     "metadata": {},
     "output_type": "execute_result"
    }
   ],
   "source": [
    "df_train.groupby('label').count()"
   ]
  },
  {
   "cell_type": "code",
   "execution_count": 56,
   "id": "d8d8ae07",
   "metadata": {
    "id": "d8d8ae07",
    "outputId": "58669877-9cc3-4c6c-be4b-004bec9cf9bc"
   },
   "outputs": [
    {
     "data": {
      "image/png": "[encoded data removed]",
      "text/plain": [
       "<Figure size 1440x720 with 1 Axes>"
      ]
     },
     "metadata": {
      "needs_background": "light"
     },
     "output_type": "display_data"
    }
   ],
   "source": [
    "fig = plt.figure(figsize=(20,10))\n",
    "ax = fig.add_subplot(111, projection='3d')\n",
    "ax.scatter(df_train.price[df_train.label == 0], df_train.freight_value[df_train.label == 0], c='blue', s=60)\n",
    "ax.scatter(df_train.price[df_train.label == 1], df_train.freight_value[df_train.label == 1], c='red', s=60)\n",
    "ax.scatter(df_train.price[df_train.label == 2], df_train.freight_value[df_train.label == 2], c='green', s=60)\n",
    "ax.scatter(df_train.price[df_train.label == 3], df_train.freight_value[df_train.label == 3], c='black', s=60)\n",
    "ax.scatter(df_train.price[df_train.label == 4], df_train.freight_value[df_train.label == 4], c='yellow', s=60)\n",
    "ax.view_init(30, 185)\n",
    "plt.xlabel(\"Product Price\")\n",
    "plt.ylabel(\"Product freight_value\")\n",
    "#ax.set_zlabel('Product Width Cm')\n",
    "plt.show()"
   ]
  },
  {
   "cell_type": "markdown",
   "id": "d55603b1",
   "metadata": {
    "id": "d55603b1"
   },
   "source": [
    "### SILHOUETTE COEFFICIENT"
   ]
  },
  {
   "cell_type": "code",
   "execution_count": null,
   "id": "3bf954cf",
   "metadata": {
    "id": "3bf954cf",
    "outputId": "4307a464-eeba-4d99-df12-9b5d12061a99"
   },
   "outputs": [],
   "source": [
    "start_loop = datetime.datetime.now()\n",
    "with warnings.catch_warnings():\n",
    "#     warnings.simplefilter(\"ignore\")\n",
    "    warnings.filterwarnings('error')\n",
    "    silhoutte_result = {}\n",
    "    \n",
    "    for n_clusters in range(2,50):\n",
    "        \n",
    "        try:\n",
    "            clusterer = KMeans(n_clusters=n_clusters)\n",
    "            preds = clusterer.fit_predict(df_train.iloc[:,1:4])\n",
    "            \n",
    "            centers = clusterer.cluster_centers_\n",
    "            \n",
    "            score = silhouette_score(df_train.iloc[:,1:4],preds)\n",
    "            \n",
    "            silhoutte_result.update({n_clusters: score})\n",
    "        except Warning:\n",
    "            print(\"[Convergence Warning] : \", n_clusters)\n",
    "            break\n",
    "stop_loop = datetime.datetime.now()\n",
    "print(\"[Total Run Time]:\", (stop_loop - start_loop).seconds)"
   ]
  },
  {
   "cell_type": "code",
   "execution_count": null,
   "id": "46f0bbed",
   "metadata": {
    "id": "46f0bbed",
    "outputId": "4d1485cc-2c5a-4b67-cc66-0b5ee5e26c9b"
   },
   "outputs": [],
   "source": [
    "max(silhoutte_result, key=silhoutte_result.get)"
   ]
  },
  {
   "cell_type": "code",
   "execution_count": null,
   "id": "48b7fe00",
   "metadata": {
    "id": "48b7fe00",
    "outputId": "325767c6-7483-4ca7-e3ec-b4b4bd0d3081"
   },
   "outputs": [
    {
     "name": "stderr",
     "output_type": "stream",
     "text": [
      "<ipython-input-43-575531b56b1f>:3: SettingWithCopyWarning: \n",
      "A value is trying to be set on a copy of a slice from a DataFrame.\n",
      "Try using .loc[row_indexer,col_indexer] = value instead\n",
      "\n",
      "See the caveats in the documentation: https://pandas.pydata.org/pandas-docs/stable/user_guide/indexing.html#returning-a-view-versus-a-copy\n",
      "  df_train[\"label_2\"] = clusters\n"
     ]
    }
   ],
   "source": [
    "km = KMeans(n_clusters=49)\n",
    "clusters = km.fit_predict(df_train.iloc[:,1:])\n",
    "df_train[\"label_2\"] = clusters"
   ]
  },
  {
   "cell_type": "code",
   "execution_count": null,
   "id": "e7b2ad14",
   "metadata": {
    "id": "e7b2ad14",
    "outputId": "277a02e1-27f5-4211-9fa4-220ccf29460d"
   },
   "outputs": [
    {
     "data": {
      "text/html": [
       "<div>\n",
       "<style scoped>\n",
       "    .dataframe tbody tr th:only-of-type {\n",
       "        vertical-align: middle;\n",
       "    }\n",
       "\n",
       "    .dataframe tbody tr th {\n",
       "        vertical-align: top;\n",
       "    }\n",
       "\n",
       "    .dataframe thead th {\n",
       "        text-align: right;\n",
       "    }\n",
       "</style>\n",
       "<table border=\"1\" class=\"dataframe\">\n",
       "  <thead>\n",
       "    <tr style=\"text-align: right;\">\n",
       "      <th></th>\n",
       "      <th>product_category_name</th>\n",
       "      <th>product_length_cm</th>\n",
       "      <th>product_height_cm</th>\n",
       "      <th>product_width_cm</th>\n",
       "      <th>label</th>\n",
       "      <th>label_2</th>\n",
       "    </tr>\n",
       "  </thead>\n",
       "  <tbody>\n",
       "    <tr>\n",
       "      <th>46</th>\n",
       "      <td>cool_stuff</td>\n",
       "      <td>47.0</td>\n",
       "      <td>40.0</td>\n",
       "      <td>47.0</td>\n",
       "      <td>2</td>\n",
       "      <td>46</td>\n",
       "    </tr>\n",
       "    <tr>\n",
       "      <th>79</th>\n",
       "      <td>agro_industria_e_comercio</td>\n",
       "      <td>63.0</td>\n",
       "      <td>66.0</td>\n",
       "      <td>56.0</td>\n",
       "      <td>0</td>\n",
       "      <td>40</td>\n",
       "    </tr>\n",
       "    <tr>\n",
       "      <th>85</th>\n",
       "      <td>instrumentos_musicais</td>\n",
       "      <td>55.0</td>\n",
       "      <td>40.0</td>\n",
       "      <td>40.0</td>\n",
       "      <td>1</td>\n",
       "      <td>16</td>\n",
       "    </tr>\n",
       "    <tr>\n",
       "      <th>148</th>\n",
       "      <td>automotivo</td>\n",
       "      <td>50.0</td>\n",
       "      <td>50.0</td>\n",
       "      <td>50.0</td>\n",
       "      <td>1</td>\n",
       "      <td>11</td>\n",
       "    </tr>\n",
       "    <tr>\n",
       "      <th>157</th>\n",
       "      <td>beleza_saude</td>\n",
       "      <td>40.0</td>\n",
       "      <td>40.0</td>\n",
       "      <td>40.0</td>\n",
       "      <td>2</td>\n",
       "      <td>0</td>\n",
       "    </tr>\n",
       "    <tr>\n",
       "      <th>...</th>\n",
       "      <td>...</td>\n",
       "      <td>...</td>\n",
       "      <td>...</td>\n",
       "      <td>...</td>\n",
       "      <td>...</td>\n",
       "      <td>...</td>\n",
       "    </tr>\n",
       "    <tr>\n",
       "      <th>32714</th>\n",
       "      <td>moveis_decoracao</td>\n",
       "      <td>45.0</td>\n",
       "      <td>40.0</td>\n",
       "      <td>45.0</td>\n",
       "      <td>2</td>\n",
       "      <td>46</td>\n",
       "    </tr>\n",
       "    <tr>\n",
       "      <th>32759</th>\n",
       "      <td>eletrodomesticos</td>\n",
       "      <td>50.0</td>\n",
       "      <td>50.0</td>\n",
       "      <td>50.0</td>\n",
       "      <td>1</td>\n",
       "      <td>11</td>\n",
       "    </tr>\n",
       "    <tr>\n",
       "      <th>32811</th>\n",
       "      <td>ferramentas_jardim</td>\n",
       "      <td>50.0</td>\n",
       "      <td>50.0</td>\n",
       "      <td>50.0</td>\n",
       "      <td>1</td>\n",
       "      <td>11</td>\n",
       "    </tr>\n",
       "    <tr>\n",
       "      <th>32832</th>\n",
       "      <td>moveis_decoracao</td>\n",
       "      <td>42.0</td>\n",
       "      <td>100.0</td>\n",
       "      <td>42.0</td>\n",
       "      <td>4</td>\n",
       "      <td>3</td>\n",
       "    </tr>\n",
       "    <tr>\n",
       "      <th>32946</th>\n",
       "      <td>moveis_decoracao</td>\n",
       "      <td>40.0</td>\n",
       "      <td>40.0</td>\n",
       "      <td>40.0</td>\n",
       "      <td>2</td>\n",
       "      <td>0</td>\n",
       "    </tr>\n",
       "  </tbody>\n",
       "</table>\n",
       "<p>551 rows × 6 columns</p>\n",
       "</div>"
      ],
      "text/plain": [
       "           product_category_name  product_length_cm  product_height_cm  \\\n",
       "46                    cool_stuff               47.0               40.0   \n",
       "79     agro_industria_e_comercio               63.0               66.0   \n",
       "85         instrumentos_musicais               55.0               40.0   \n",
       "148                   automotivo               50.0               50.0   \n",
       "157                 beleza_saude               40.0               40.0   \n",
       "...                          ...                ...                ...   \n",
       "32714           moveis_decoracao               45.0               40.0   \n",
       "32759           eletrodomesticos               50.0               50.0   \n",
       "32811         ferramentas_jardim               50.0               50.0   \n",
       "32832           moveis_decoracao               42.0              100.0   \n",
       "32946           moveis_decoracao               40.0               40.0   \n",
       "\n",
       "       product_width_cm  label  label_2  \n",
       "46                 47.0      2       46  \n",
       "79                 56.0      0       40  \n",
       "85                 40.0      1       16  \n",
       "148                50.0      1       11  \n",
       "157                40.0      2        0  \n",
       "...                 ...    ...      ...  \n",
       "32714              45.0      2       46  \n",
       "32759              50.0      1       11  \n",
       "32811              50.0      1       11  \n",
       "32832              42.0      4        3  \n",
       "32946              40.0      2        0  \n",
       "\n",
       "[551 rows x 6 columns]"
      ]
     },
     "execution_count": 44,
     "metadata": {},
     "output_type": "execute_result"
    }
   ],
   "source": [
    "df_train"
   ]
  }
 ],
 "metadata": {
  "colab": {
   "name": "HW_clustering_produck_kategory_ipynb",
   "provenance": []
  },
  "kernelspec": {
   "display_name": "Python 3 (ipykernel)",
   "language": "python",
   "name": "python3"
  },
  "language_info": {
   "codemirror_mode": {
    "name": "ipython",
    "version": 3
   },
   "file_extension": ".py",
   "mimetype": "text/x-python",
   "name": "python",
   "nbconvert_exporter": "python",
   "pygments_lexer": "ipython3",
   "version": "3.9.7"
  }
 },
 "nbformat": 4,
 "nbformat_minor": 5
}
